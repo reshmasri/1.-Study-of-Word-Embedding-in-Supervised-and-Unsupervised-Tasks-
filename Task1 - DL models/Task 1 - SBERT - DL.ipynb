{
 "cells": [
  {
   "cell_type": "code",
   "execution_count": 1,
   "metadata": {},
   "outputs": [
    {
     "name": "stderr",
     "output_type": "stream",
     "text": [
      "Using TensorFlow backend.\n",
      "C:\\Users\\reshm\\Anaconda3\\lib\\site-packages\\tensorflow\\python\\framework\\dtypes.py:516: FutureWarning: Passing (type, 1) or '1type' as a synonym of type is deprecated; in a future version of numpy, it will be understood as (type, (1,)) / '(1,)type'.\n",
      "  _np_qint8 = np.dtype([(\"qint8\", np.int8, 1)])\n",
      "C:\\Users\\reshm\\Anaconda3\\lib\\site-packages\\tensorflow\\python\\framework\\dtypes.py:517: FutureWarning: Passing (type, 1) or '1type' as a synonym of type is deprecated; in a future version of numpy, it will be understood as (type, (1,)) / '(1,)type'.\n",
      "  _np_quint8 = np.dtype([(\"quint8\", np.uint8, 1)])\n",
      "C:\\Users\\reshm\\Anaconda3\\lib\\site-packages\\tensorflow\\python\\framework\\dtypes.py:518: FutureWarning: Passing (type, 1) or '1type' as a synonym of type is deprecated; in a future version of numpy, it will be understood as (type, (1,)) / '(1,)type'.\n",
      "  _np_qint16 = np.dtype([(\"qint16\", np.int16, 1)])\n",
      "C:\\Users\\reshm\\Anaconda3\\lib\\site-packages\\tensorflow\\python\\framework\\dtypes.py:519: FutureWarning: Passing (type, 1) or '1type' as a synonym of type is deprecated; in a future version of numpy, it will be understood as (type, (1,)) / '(1,)type'.\n",
      "  _np_quint16 = np.dtype([(\"quint16\", np.uint16, 1)])\n",
      "C:\\Users\\reshm\\Anaconda3\\lib\\site-packages\\tensorflow\\python\\framework\\dtypes.py:520: FutureWarning: Passing (type, 1) or '1type' as a synonym of type is deprecated; in a future version of numpy, it will be understood as (type, (1,)) / '(1,)type'.\n",
      "  _np_qint32 = np.dtype([(\"qint32\", np.int32, 1)])\n",
      "C:\\Users\\reshm\\Anaconda3\\lib\\site-packages\\tensorflow\\python\\framework\\dtypes.py:525: FutureWarning: Passing (type, 1) or '1type' as a synonym of type is deprecated; in a future version of numpy, it will be understood as (type, (1,)) / '(1,)type'.\n",
      "  np_resource = np.dtype([(\"resource\", np.ubyte, 1)])\n",
      "C:\\Users\\reshm\\Anaconda3\\lib\\site-packages\\tensorboard\\compat\\tensorflow_stub\\dtypes.py:541: FutureWarning: Passing (type, 1) or '1type' as a synonym of type is deprecated; in a future version of numpy, it will be understood as (type, (1,)) / '(1,)type'.\n",
      "  _np_qint8 = np.dtype([(\"qint8\", np.int8, 1)])\n",
      "C:\\Users\\reshm\\Anaconda3\\lib\\site-packages\\tensorboard\\compat\\tensorflow_stub\\dtypes.py:542: FutureWarning: Passing (type, 1) or '1type' as a synonym of type is deprecated; in a future version of numpy, it will be understood as (type, (1,)) / '(1,)type'.\n",
      "  _np_quint8 = np.dtype([(\"quint8\", np.uint8, 1)])\n",
      "C:\\Users\\reshm\\Anaconda3\\lib\\site-packages\\tensorboard\\compat\\tensorflow_stub\\dtypes.py:543: FutureWarning: Passing (type, 1) or '1type' as a synonym of type is deprecated; in a future version of numpy, it will be understood as (type, (1,)) / '(1,)type'.\n",
      "  _np_qint16 = np.dtype([(\"qint16\", np.int16, 1)])\n",
      "C:\\Users\\reshm\\Anaconda3\\lib\\site-packages\\tensorboard\\compat\\tensorflow_stub\\dtypes.py:544: FutureWarning: Passing (type, 1) or '1type' as a synonym of type is deprecated; in a future version of numpy, it will be understood as (type, (1,)) / '(1,)type'.\n",
      "  _np_quint16 = np.dtype([(\"quint16\", np.uint16, 1)])\n",
      "C:\\Users\\reshm\\Anaconda3\\lib\\site-packages\\tensorboard\\compat\\tensorflow_stub\\dtypes.py:545: FutureWarning: Passing (type, 1) or '1type' as a synonym of type is deprecated; in a future version of numpy, it will be understood as (type, (1,)) / '(1,)type'.\n",
      "  _np_qint32 = np.dtype([(\"qint32\", np.int32, 1)])\n",
      "C:\\Users\\reshm\\Anaconda3\\lib\\site-packages\\tensorboard\\compat\\tensorflow_stub\\dtypes.py:550: FutureWarning: Passing (type, 1) or '1type' as a synonym of type is deprecated; in a future version of numpy, it will be understood as (type, (1,)) / '(1,)type'.\n",
      "  np_resource = np.dtype([(\"resource\", np.ubyte, 1)])\n"
     ]
    },
    {
     "name": "stdout",
     "output_type": "stream",
     "text": [
      "Requirement already satisfied: contractions in c:\\users\\reshm\\anaconda3\\lib\\site-packages (0.0.24)\n",
      "Requirement already satisfied: textsearch in c:\\users\\reshm\\anaconda3\\lib\\site-packages (from contractions) (0.0.17)\n",
      "Requirement already satisfied: Unidecode in c:\\users\\reshm\\anaconda3\\lib\\site-packages (from textsearch->contractions) (1.1.1)\n",
      "Requirement already satisfied: pyahocorasick in c:\\users\\reshm\\anaconda3\\lib\\site-packages (from textsearch->contractions) (1.4.0)\n"
     ]
    }
   ],
   "source": [
    "import pandas as pd\n",
    "import numpy as np\n",
    "import matplotlib.pyplot as plt\n",
    "import torch\n",
    "import torchvision\n",
    "import torch.nn as nn\n",
    "import torch.nn.functional as F\n",
    "import torch.optim as optim\n",
    "from torch.utils.data import DataLoader, Dataset\n",
    "import torch.utils.data as data\n",
    "from torchvision import transforms\n",
    "#from pytorch_pretrained_bert import BertTokenizer, BertModel, BertForMaskedLM\n",
    "\n",
    "import logging\n",
    "import urllib\n",
    "import sys\n",
    "import os\n",
    "import zipfile\n",
    "from os.path import join, exists\n",
    "\n",
    "# 1.Importing all the libraries\n",
    "\n",
    "import numpy as np \n",
    "import pandas as pd \n",
    "import matplotlib.pyplot as plt\n",
    "import math\n",
    "from scipy import stats\n",
    "from scipy.stats import randint\n",
    "import re\n",
    "from nltk.tokenize import word_tokenize\n",
    "from string import punctuation \n",
    "from nltk.corpus import stopwords \n",
    "import string\n",
    "from nltk.stem import WordNetLemmatizer\n",
    "from nltk.stem.porter import PorterStemmer\n",
    "from nltk.util import ngrams\n",
    "from sklearn.feature_extraction.text import TfidfVectorizer,CountVectorizer\n",
    "from sklearn import neighbors\n",
    "import seaborn as sns\n",
    "from sklearn.model_selection import train_test_split\n",
    "from sklearn import metrics\n",
    "from sklearn.metrics import accuracy_score, mean_squared_error, precision_recall_curve\n",
    "from sklearn.model_selection import cross_val_score\n",
    "from keras.preprocessing.text import Tokenizer\n",
    "from keras.preprocessing.sequence import pad_sequences\n",
    "from keras.models import Sequential\n",
    "from keras.layers import Embedding, LSTM, Dense, Dropout\n",
    "from keras.layers import Dense, Input, LSTM, Embedding, Dropout, Activation, CuDNNGRU, Conv1D, CuDNNLSTM, concatenate\n",
    "from keras.layers import Bidirectional, GlobalMaxPool1D, Dropout, SpatialDropout1D, GlobalAveragePooling1D, GlobalMaxPooling1D\n",
    "from keras.models import Model\n",
    "from keras import initializers, regularizers, constraints, optimizers, layers\n",
    "from keras.optimizers import SGD\n",
    "from keras.optimizers import RMSprop\n",
    "from tensorflow import keras\n",
    "from keras.utils import to_categorical\n",
    "from gensim.models.doc2vec import LabeledSentence\n",
    "from gensim.models.doc2vec import TaggedDocument\n",
    "from gensim.models import Doc2Vec\n",
    "from sklearn.metrics.pairwise import cosine_similarity\n",
    "from sklearn.metrics import accuracy_score\n",
    "from sklearn.neighbors import KNeighborsClassifier\n",
    "import warnings\n",
    "import tensorflow as tf\n",
    "from keras.preprocessing.text import Tokenizer\n",
    "from keras.preprocessing.sequence import pad_sequences\n",
    "from nltk.tokenize import TweetTokenizer\n",
    "from sklearn.preprocessing import binarize, LabelEncoder, MinMaxScaler\n",
    "# import emoji\n",
    "!pip install contractions\n",
    "import contractions\n",
    "from sklearn.metrics import classification_report\n",
    "import os\n",
    "from os.path import join, exists\n",
    "from keras.utils.data_utils import get_file\n",
    "import sys\n",
    "import time\n",
    "from imblearn.over_sampling import RandomOverSampler,SMOTE, ADASYN\n",
    "from collections import Counter\n",
    "from collections import defaultdict\n",
    "from nltk.stem import SnowballStemmer\n",
    "# from tqdm import tqdm\n",
    "# tqdm.pandas(desc=\"progress-bar\")\n",
    "from gensim.models import Doc2Vec\n",
    "from sklearn import utils\n",
    "import gensim\n",
    "from sklearn.linear_model import LogisticRegression\n",
    "from gensim.models.doc2vec import TaggedDocument\n",
    "import re\n",
    "from sklearn import neighbors\n",
    "import seaborn as sns\n",
    "from sklearn.model_selection import train_test_split\n",
    "from sklearn.linear_model import LogisticRegression, LinearRegression\n",
    "from sklearn.tree import DecisionTreeClassifier\n",
    "from sklearn.ensemble import RandomForestClassifier, ExtraTreesClassifier\n",
    "from sklearn.naive_bayes import GaussianNB\n",
    "import matplotlib.pyplot as plt\n",
    "warnings.filterwarnings(\"ignore\")"
   ]
  },
  {
   "cell_type": "code",
   "execution_count": 2,
   "metadata": {},
   "outputs": [],
   "source": [
    "# function to extract only words, by excluding punctuation and other symbols\n",
    "def clean_data(review):\n",
    "    review = review.lower() # convert text to lower-case\n",
    "    review = re.sub('((www\\.[^\\s]+)|(https?://[^\\s]+))', 'URL', review) # remove URLs\n",
    "    review = re.sub('@[^\\s]+', 'AT_USER', review) # remove usernames\n",
    "    review = re.sub(r'#([^\\s]+)', r'\\1', review) # remove the # in #hashtag\n",
    "    review = re.sub(r'\\W', ' ', review) # Remove all the special characters\n",
    "    review= re.sub(r'\\s+[a-zA-Z]\\s+', ' ', review)  # remove all single characters  \n",
    "    review = re.sub(r'\\^[a-zA-Z]\\s+', ' ', review)  # Remove single characters from the start\n",
    "    review = re.sub(r'\\s+', ' ', review, flags=re.I)# Substituting multiple spaces with single space\n",
    "    review =  re.sub(r\"\\d\", \"\", review) #Removing Digits\n",
    "    review = re.sub(r\"^\\s+\", \"\", review) #Removing Spaces from Start and End\n",
    "    review = contractions.fix(review) #to change words like \"don't\" to \"do not\"\n",
    "    review = re.sub(\"([^\\x00-\\x7F])+\",\" \",review) #removing non-english words\n",
    "#     review = word_tokenize(review) \n",
    "#     review = remove_stop_words(review) #remove stop words\n",
    "#     review = ' '.join(review)\n",
    "    return review\n",
    "\n",
    "def confusion_matrix(cnf_matrix):    \n",
    "    class_names=[0,1] # name  of classes\n",
    "    fig, ax = plt.subplots()\n",
    "    tick_marks = np.arange(len(class_names))\n",
    "    plt.xticks(tick_marks, class_names)\n",
    "    plt.yticks(tick_marks, class_names)\n",
    "    sns.heatmap(pd.DataFrame(cnf_matrix), annot=True, cmap=\"YlGnBu\" ,fmt='g')\n",
    "    ax.xaxis.set_label_position(\"top\")\n",
    "    plt.tight_layout()\n",
    "    plt.title('Confusion matrix', y=1.1)\n",
    "    plt.ylabel('Actual label')\n",
    "    plt.xlabel('Predicted label')\n",
    "    return \n",
    "def plotting_df(history):\n",
    "    plt.plot(history.history['acc'])\n",
    "    plt.plot(history.history['val_acc'])\n",
    "    plt.title('model accuracy')\n",
    "    plt.ylabel('accuracy')\n",
    "    plt.xlabel('epoch')\n",
    "    plt.legend(['train', 'test'], loc='upper left')\n",
    "    plt.show()\n",
    "\n",
    "    # summarize history for loss\n",
    "    plt.plot(history.history['loss'])\n",
    "    plt.plot(history.history['val_loss'])\n",
    "    plt.title('model loss')\n",
    "    plt.ylabel('loss')\n",
    "    plt.xlabel('epoch')\n",
    "    plt.legend(['train', 'test'], loc='upper left')\n",
    "    plt.show()  "
   ]
  },
  {
   "cell_type": "code",
   "execution_count": 3,
   "metadata": {
    "colab": {},
    "colab_type": "code",
    "id": "f0NWfafZTw5F"
   },
   "outputs": [],
   "source": [
    "##Dataset Class extends Pytorch inbuilt Dataset Class\n",
    "\n",
    "\n",
    "class Arizona(Dataset):\n",
    "  def __init__(self, file_path, transform=None):\n",
    "        self.data = file_path\n",
    "        self.transform = transform\n",
    "        self.targets = [a for a in self.data.iloc[:,1536]]\n",
    "        \n",
    "  def __len__(self):\n",
    "    return len(self.data)\n",
    "    \n",
    "  def __getitem__(self, index):\n",
    "    sample = self.data.iloc[index, :-1].values.reshape((1,1536))\n",
    "    label = self.targets[index]\n",
    "        \n",
    "    if self.transform is not None:\n",
    "      sample = self.transform(sample)\n",
    "            \n",
    "    return sample,label"
   ]
  },
  {
   "cell_type": "code",
   "execution_count": 4,
   "metadata": {
    "colab": {},
    "colab_type": "code",
    "id": "56DbP6HATzqE"
   },
   "outputs": [],
   "source": [
    "## Neural Network architecture is named Network and this extends Pytorch inbuit nn.Module class\n",
    "\n",
    "class Network(nn.Module):\n",
    "  def __init__(self):\n",
    "    super(Network,self).__init__()\n",
    "    self.out = nn.Linear(in_features=1536,out_features=2)\n",
    "\n",
    "  def forward(self,t):\n",
    "    #implement forward pass method\n",
    "    t = t\n",
    "    t = t.reshape(-1, 1536) ##dont think this is necessary recheck\n",
    "    t = self.out(t)\n",
    "    return t"
   ]
  },
  {
   "cell_type": "code",
   "execution_count": null,
   "metadata": {},
   "outputs": [],
   "source": []
  },
  {
   "cell_type": "code",
   "execution_count": 5,
   "metadata": {},
   "outputs": [],
   "source": [
    "##Reading back lists with pickle\n",
    "\n",
    "\n",
    "import pickle\n",
    "\n",
    "with open('C:/python files/NLP/project/SBERT embeddings/train_q1.data', 'rb') as filehandle:\n",
    "    # read the data as binary data stream\n",
    "    train_q1 = pickle.load(filehandle)"
   ]
  },
  {
   "cell_type": "code",
   "execution_count": 6,
   "metadata": {},
   "outputs": [],
   "source": [
    "##Reading back lists with pickle\n",
    "\n",
    "\n",
    "import pickle\n",
    "\n",
    "with open('C:/python files/NLP/project/SBERT embeddings/train_q2.data', 'rb') as filehandle:\n",
    "    # read the data as binary data stream\n",
    "    train_q2 = pickle.load(filehandle)"
   ]
  },
  {
   "cell_type": "code",
   "execution_count": 7,
   "metadata": {},
   "outputs": [],
   "source": [
    "##Reading back lists with pickle\n",
    "\n",
    "\n",
    "import pickle\n",
    "\n",
    "with open('C:/python files/NLP/project/SBERT embeddings/test_q1.data', 'rb') as filehandle:\n",
    "    # read the data as binary data stream\n",
    "    test_q1 = pickle.load(filehandle)"
   ]
  },
  {
   "cell_type": "code",
   "execution_count": 8,
   "metadata": {},
   "outputs": [],
   "source": [
    "##Reading back lists with pickle\n",
    "\n",
    "\n",
    "import pickle\n",
    "\n",
    "with open('C:/python files/NLP/project/SBERT embeddings/test_q2.data', 'rb') as filehandle:\n",
    "    # read the data as binary data stream\n",
    "    test_q2 = pickle.load(filehandle)"
   ]
  },
  {
   "cell_type": "code",
   "execution_count": 9,
   "metadata": {},
   "outputs": [],
   "source": [
    "##Reading back lists with pickle\n",
    "\n",
    "\n",
    "import pickle\n",
    "\n",
    "with open('C:/python files/NLP/project/SBERT embeddings/label_test.data', 'rb') as filehandle:\n",
    "    # read the data as binary data stream\n",
    "    label_test = pickle.load(filehandle)\n"
   ]
  },
  {
   "cell_type": "code",
   "execution_count": 10,
   "metadata": {},
   "outputs": [],
   "source": [
    "##Reading back lists with pickle\n",
    "\n",
    "\n",
    "import pickle\n",
    "\n",
    "with open('C:/python files/NLP/project/SBERT embeddings/label_train.txt', 'rb') as filehandle:\n",
    "    # read the data as binary data stream\n",
    "    label_train = pickle.load(filehandle)"
   ]
  },
  {
   "cell_type": "code",
   "execution_count": 11,
   "metadata": {},
   "outputs": [],
   "source": [
    "import itertools\n",
    "X_train = [list(itertools.chain.from_iterable([train_q1[i]] + [train_q2[i]])) for i in range(len(train_q1))]\n",
    "X_test = [list(itertools.chain.from_iterable([test_q1[i]] + [test_q2[i]])) for i in range(len(test_q1))]"
   ]
  },
  {
   "cell_type": "code",
   "execution_count": 12,
   "metadata": {},
   "outputs": [],
   "source": [
    "y_train = label_train\n",
    "y_test = label_test"
   ]
  },
  {
   "cell_type": "code",
   "execution_count": 13,
   "metadata": {},
   "outputs": [],
   "source": [
    "test_df = pd.DataFrame(X_test)\n",
    "test_df[\"labels\"] = label_test"
   ]
  },
  {
   "cell_type": "code",
   "execution_count": 14,
   "metadata": {},
   "outputs": [],
   "source": [
    "train= pd.DataFrame(X_train)\n",
    "train[\"labels\"] = label_train"
   ]
  },
  {
   "cell_type": "code",
   "execution_count": 15,
   "metadata": {},
   "outputs": [],
   "source": [
    "train_df, val_df = train_test_split(train, test_size=0.1)"
   ]
  },
  {
   "cell_type": "code",
   "execution_count": 16,
   "metadata": {},
   "outputs": [
    {
     "data": {
      "text/plain": [
       "(327521, 1537)"
      ]
     },
     "execution_count": 16,
     "metadata": {},
     "output_type": "execute_result"
    }
   ],
   "source": [
    "train_df.shape"
   ]
  },
  {
   "cell_type": "code",
   "execution_count": 17,
   "metadata": {},
   "outputs": [
    {
     "data": {
      "text/plain": [
       "(36392, 1537)"
      ]
     },
     "execution_count": 17,
     "metadata": {},
     "output_type": "execute_result"
    }
   ],
   "source": [
    "val_df.shape"
   ]
  },
  {
   "cell_type": "code",
   "execution_count": 18,
   "metadata": {},
   "outputs": [
    {
     "data": {
      "text/plain": [
       "(40435, 1537)"
      ]
     },
     "execution_count": 18,
     "metadata": {},
     "output_type": "execute_result"
    }
   ],
   "source": [
    "test_df.shape"
   ]
  },
  {
   "cell_type": "code",
   "execution_count": null,
   "metadata": {},
   "outputs": [],
   "source": [
    "y_train = train_df.labels \n",
    "y_test = test_df.labels\n",
    "y_val = val_df.labels\n",
    "X_train = train_df.drop([\"labels\"], axis=1)\n",
    "X_test = train_df.drop([\"labels\"], axis=1)\n",
    "X_val = train_df.drop([\"labels\"], axis=1)\n",
    "X_test"
   ]
  },
  {
   "cell_type": "code",
   "execution_count": null,
   "metadata": {},
   "outputs": [],
   "source": [
    "y_train = train_df.labels \n",
    "X_train = train_df.drop([\"labels\"], axis=1)"
   ]
  },
  {
   "cell_type": "code",
   "execution_count": 21,
   "metadata": {},
   "outputs": [
    {
     "data": {
      "text/plain": [
       "363913"
      ]
     },
     "execution_count": 21,
     "metadata": {},
     "output_type": "execute_result"
    }
   ],
   "source": [
    "len(X_train)"
   ]
  },
  {
   "cell_type": "code",
   "execution_count": 32,
   "metadata": {},
   "outputs": [
    {
     "data": {
      "text/plain": [
       "array([0, 0, 0, ..., 1, 1, 1])"
      ]
     },
     "execution_count": 32,
     "metadata": {},
     "output_type": "execute_result"
    }
   ],
   "source": [
    "y_resampled"
   ]
  },
  {
   "cell_type": "code",
   "execution_count": 22,
   "metadata": {},
   "outputs": [],
   "source": [
    "def undersampleData(train_X, train_y):\n",
    "    rus = RandomUnderSampler(random_state=0)\n",
    "    X_resampled, y_resampled = rus.fit_resample(train_X, train_y)\n",
    "    return X_resampled, y_resampled"
   ]
  },
  {
   "cell_type": "code",
   "execution_count": 24,
   "metadata": {},
   "outputs": [],
   "source": [
    "from imblearn.under_sampling import RandomUnderSampler\n",
    "X_resampled, y_resampled = undersampleData(X_train, y_train)"
   ]
  },
  {
   "cell_type": "code",
   "execution_count": 34,
   "metadata": {},
   "outputs": [
    {
     "name": "stdout",
     "output_type": "stream",
     "text": [
      "Train Data Shape: (268972, 1536)\n",
      "Train Data : \n",
      " 1    134486\n",
      "0    134486\n",
      "Name: 0, dtype: int64\n"
     ]
    },
    {
     "data": {
      "image/png": "[encoded data removed]",
      "text/plain": [
       "<Figure size 432x288 with 1 Axes>"
      ]
     },
     "metadata": {
      "needs_background": "light"
     },
     "output_type": "display_data"
    }
   ],
   "source": [
    "print(\"Train Data Shape:\",X_resampled.shape)\n",
    "y = pd.DataFrame(y_resampled)\n",
    "print(\"Train Data : \\n\",y[0].value_counts())\n",
    "\n",
    "sns.countplot(y[0],label=\"Count\")\n",
    "plt.show()"
   ]
  },
  {
   "cell_type": "code",
   "execution_count": 25,
   "metadata": {},
   "outputs": [],
   "source": [
    "train_df_sampled = pd.DataFrame(X_resampled)\n",
    "train_df_sampled[\"labels\"] = y_resampled"
   ]
  },
  {
   "cell_type": "code",
   "execution_count": null,
   "metadata": {},
   "outputs": [],
   "source": []
  },
  {
   "cell_type": "code",
   "execution_count": null,
   "metadata": {
    "colab": {},
    "colab_type": "code",
    "id": "wADauMXwT9WY"
   },
   "outputs": [],
   "source": [
    "# train_df = df_for_task1(final_sent_embedding,train)\n",
    "\n",
    "# val_df = df_for_task1(final_sent_embedding_val,validation)\n",
    "\n",
    "# test_df = df_for_task1(final_sent_embedding_test,test)"
   ]
  },
  {
   "cell_type": "code",
   "execution_count": 35,
   "metadata": {
    "colab": {},
    "colab_type": "code",
    "id": "l5CoxINyUBRV"
   },
   "outputs": [],
   "source": [
    "train_dataset = Arizona(train_df_sampled,transform=torchvision.transforms.ToTensor())\n",
    "\n",
    "train_loader = torch.utils.data.DataLoader(train_dataset,batch_size=2048)\n"
   ]
  },
  {
   "cell_type": "code",
   "execution_count": 36,
   "metadata": {},
   "outputs": [],
   "source": [
    "test_dataset = Arizona(test_df,transform=torchvision.transforms.ToTensor())\n",
    "\n",
    "test_loader = torch.utils.data.DataLoader(test_dataset,batch_size=2048)\n"
   ]
  },
  {
   "cell_type": "code",
   "execution_count": 37,
   "metadata": {},
   "outputs": [],
   "source": [
    "val_dataset = Arizona(val_df,transform=torchvision.transforms.ToTensor())\n",
    "\n",
    "val_loader = torch.utils.data.DataLoader(val_dataset,batch_size=2048)\n"
   ]
  },
  {
   "cell_type": "code",
   "execution_count": null,
   "metadata": {},
   "outputs": [],
   "source": []
  },
  {
   "cell_type": "code",
   "execution_count": null,
   "metadata": {},
   "outputs": [],
   "source": []
  },
  {
   "cell_type": "code",
   "execution_count": 38,
   "metadata": {
    "colab": {},
    "colab_type": "code",
    "id": "fbckVxnyUE3q"
   },
   "outputs": [],
   "source": [
    "#Creating an instance of Network class which is our model here\n",
    "\n",
    "## BS : 1024, optimizer : Adam , learning rate = 0.01 , Epochs : 10\n",
    "\n",
    "variant = Network()\n",
    "\n",
    "## Creating an optimizer instance and passing it the learning rate\n",
    "\n",
    "optimizer = optim.Adam(variant.parameters(),lr=0.001)"
   ]
  },
  {
   "cell_type": "code",
   "execution_count": null,
   "metadata": {
    "colab": {},
    "colab_type": "code",
    "id": "5jjPHdUbTF1d"
   },
   "outputs": [
    {
     "name": "stdout",
     "output_type": "stream",
     "text": [
      "saved model now\n",
      "epoch: 0.0000  loss: 49.5688  loss_val: 9.3138  train_acc: 1.0000  val_acc: 0.3915\n",
      "epoch: 1.0000  loss: 278.3271  loss_val: 9.6057  train_acc: 1.0000  val_acc: 0.3915\n",
      "epoch: 2.0000  loss: 296.9583  loss_val: 9.0266  train_acc: 1.0000  val_acc: 0.3915\n"
     ]
    }
   ],
   "source": [
    "## Training and storing the model which performed the best on validation set\n",
    "\n",
    "## Storing loss and accuracy to plot corresponding graphs\n",
    "\n",
    "\n",
    "for batch_val in val_loader:\n",
    "  images_val,labels_val = batch_val\n",
    "\n",
    "for batch_test in test_loader:\n",
    "  images_test,labels_test = batch_test\n",
    "\n",
    "for batch_total in train_loader:\n",
    "  images_total,labels_total = batch_total\n",
    "\n",
    "train_loss = []\n",
    "val_loss = []\n",
    "train_accuracy = []\n",
    "val_accuracy = []\n",
    "max_acc_val = 0\n",
    "for epoch in range(25):\n",
    "  total_loss = 0\n",
    "  loss_val = 0\n",
    "  for batch in train_loader:\n",
    "    images,labels = batch\n",
    "    preds = variant(images.float())\n",
    "\n",
    "    loss = F.cross_entropy(preds,labels)\n",
    "    \n",
    "\n",
    "    optimizer.zero_grad()\n",
    "\n",
    "    loss.backward()\n",
    "    optimizer.step()\n",
    "\n",
    "    total_loss += loss.item()\n",
    "  preds_val = variant(images_val.float())\n",
    "  loss_val = F.cross_entropy(preds_val,labels_val)\n",
    "  loss_val = loss_val.item()\n",
    "  train_loss.append(total_loss)\n",
    "  val_loss.append(loss_val)\n",
    "  train_acc = preds.argmax(dim=1).eq(labels).sum().item()/len(images)\n",
    "  train_accuracy.append(train_acc)\n",
    "  val_acc = preds_val.argmax(dim=1).eq(labels_val).sum().item()/len(images_val)\n",
    "  val_accuracy.append(val_acc)\n",
    "  if val_acc > max_acc_val: \n",
    "    max_acc_val = val_acc\n",
    "#     torch.save(variant.state_dict(), \"/best_variant_model.pth\")\n",
    "    print(\"saved model now\")\n",
    "  print(\"epoch: {:.4f}\".format(epoch) ,\" loss: {:.4f}\".format(total_loss),\" loss_val: {:.4f}\".format(loss_val),\" train_acc: {:.4f}\".format(train_acc),\" val_acc: {:.4f}\".format(val_acc))\n"
   ]
  },
  {
   "cell_type": "code",
   "execution_count": null,
   "metadata": {},
   "outputs": [],
   "source": [
    "def plotting(loss_val,total_loss,train_acc,val_acc):\n",
    "#     print(loss_val)\n",
    "    plt.plot(train_acc)\n",
    "    plt.plot(val_acc)\n",
    "    plt.title('model accuracy')\n",
    "    plt.ylabel('accuracy')\n",
    "    plt.xlabel('epoch')\n",
    "    plt.legend(['train', 'validation'], loc='upper left')\n",
    "    plt.show()\n",
    "\n",
    "    # summarize history for loss\n",
    "    plt.plot(total_loss)\n",
    "    plt.plot(loss_val)\n",
    "    plt.title('model loss')\n",
    "    plt.ylabel('loss')\n",
    "    plt.xlabel('epoch')\n",
    "    plt.legend(['train', 'validation'], loc='upper left')\n",
    "    plt.show() "
   ]
  },
  {
   "cell_type": "code",
   "execution_count": null,
   "metadata": {},
   "outputs": [],
   "source": [
    "# train_loss = []\n",
    "# val_loss = []\n",
    "# train_accuracy = []\n",
    "# val_accuracy =\n",
    "plotting(val_loss,train_loss,train_accuracy,val_accuracy)"
   ]
  },
  {
   "cell_type": "code",
   "execution_count": null,
   "metadata": {},
   "outputs": [],
   "source": [
    "# preds_total = variant1(images_total.float())"
   ]
  },
  {
   "cell_type": "code",
   "execution_count": 23,
   "metadata": {},
   "outputs": [],
   "source": [
    "def confusion_matrix(cnf_matrix):    \n",
    "    class_names=[0,1] # name  of classes\n",
    "    fig, ax = plt.subplots()\n",
    "    tick_marks = np.arange(len(class_names))\n",
    "    plt.xticks(tick_marks, class_names)\n",
    "    plt.yticks(tick_marks, class_names)\n",
    "    sns.heatmap(pd.DataFrame(cnf_matrix), annot=True, cmap=\"YlGnBu\" ,fmt='g')\n",
    "    ax.xaxis.set_label_position(\"top\")\n",
    "    plt.tight_layout()\n",
    "    plt.title('Confusion matrix', y=1.1)\n",
    "    plt.ylabel('Actual label')\n",
    "    plt.xlabel('Predicted label')\n",
    "    return "
   ]
  },
  {
   "cell_type": "code",
   "execution_count": null,
   "metadata": {
    "colab": {},
    "colab_type": "code",
    "id": "4IilR4OGUSEP"
   },
   "outputs": [],
   "source": [
    "# ## Classification Report for a single batch of samples from train set\n",
    "\n",
    "from sklearn.metrics import classification_report\n",
    "# target_names = ['CONTRADICTION', 'NEUTRAL', 'ENTAILMENT']\n",
    "# print(classification_report(labels.numpy(),preds.argmax(dim=1).numpy(), target_names=target_names))\n",
    "\n",
    "\n",
    "# ## Passing complete train loader to the model for train predictions\n",
    "\n",
    "preds_total = variant(images_total.float())\n",
    "\n",
    "\n",
    "# Classification Report for Complete Train set\n",
    "\n",
    "from sklearn.metrics import classification_report\n",
    "target_names = [0,1]\n",
    "print(classification_report(labels_total,preds_total.argmax(dim=1)))"
   ]
  },
  {
   "cell_type": "code",
   "execution_count": null,
   "metadata": {},
   "outputs": [],
   "source": [
    "preds_test = variant(images_test.float())\n",
    "\n"
   ]
  },
  {
   "cell_type": "code",
   "execution_count": null,
   "metadata": {},
   "outputs": [],
   "source": [
    "from sklearn.metrics import classification_report\n",
    "# target_names = [0,1]\n",
    "print(classification_report(labels_test,preds_test.argmax(dim=1)))"
   ]
  },
  {
   "cell_type": "code",
   "execution_count": null,
   "metadata": {},
   "outputs": [],
   "source": [
    "cnf_matrix = metrics.confusion_matrix(labels_test,preds_test.argmax(dim=1))\n",
    "confusion_matrix(cnf_matrix)"
   ]
  },
  {
   "cell_type": "code",
   "execution_count": null,
   "metadata": {},
   "outputs": [],
   "source": []
  }
 ],
 "metadata": {
  "colab": {
   "name": "LR_Model_Skelton.ipynb",
   "provenance": []
  },
  "kernelspec": {
   "display_name": "Python 3",
   "language": "python",
   "name": "python3"
  },
  "language_info": {
   "codemirror_mode": {
    "name": "ipython",
    "version": 3
   },
   "file_extension": ".py",
   "mimetype": "text/x-python",
   "name": "python",
   "nbconvert_exporter": "python",
   "pygments_lexer": "ipython3",
   "version": "3.7.0"
  }
 },
 "nbformat": 4,
 "nbformat_minor": 1
}
