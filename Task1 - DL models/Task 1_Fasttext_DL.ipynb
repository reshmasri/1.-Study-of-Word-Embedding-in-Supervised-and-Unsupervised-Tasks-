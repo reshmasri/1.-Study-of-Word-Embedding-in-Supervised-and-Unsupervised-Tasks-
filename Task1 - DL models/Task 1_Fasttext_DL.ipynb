{
 "cells": [
  {
   "cell_type": "code",
   "execution_count": 1,
   "metadata": {},
   "outputs": [
    {
     "name": "stderr",
     "output_type": "stream",
     "text": [
      "Using TensorFlow backend.\n",
      "C:\\Users\\reshm\\Anaconda3\\lib\\site-packages\\tensorflow\\python\\framework\\dtypes.py:516: FutureWarning: Passing (type, 1) or '1type' as a synonym of type is deprecated; in a future version of numpy, it will be understood as (type, (1,)) / '(1,)type'.\n",
      "  _np_qint8 = np.dtype([(\"qint8\", np.int8, 1)])\n",
      "C:\\Users\\reshm\\Anaconda3\\lib\\site-packages\\tensorflow\\python\\framework\\dtypes.py:517: FutureWarning: Passing (type, 1) or '1type' as a synonym of type is deprecated; in a future version of numpy, it will be understood as (type, (1,)) / '(1,)type'.\n",
      "  _np_quint8 = np.dtype([(\"quint8\", np.uint8, 1)])\n",
      "C:\\Users\\reshm\\Anaconda3\\lib\\site-packages\\tensorflow\\python\\framework\\dtypes.py:518: FutureWarning: Passing (type, 1) or '1type' as a synonym of type is deprecated; in a future version of numpy, it will be understood as (type, (1,)) / '(1,)type'.\n",
      "  _np_qint16 = np.dtype([(\"qint16\", np.int16, 1)])\n",
      "C:\\Users\\reshm\\Anaconda3\\lib\\site-packages\\tensorflow\\python\\framework\\dtypes.py:519: FutureWarning: Passing (type, 1) or '1type' as a synonym of type is deprecated; in a future version of numpy, it will be understood as (type, (1,)) / '(1,)type'.\n",
      "  _np_quint16 = np.dtype([(\"quint16\", np.uint16, 1)])\n",
      "C:\\Users\\reshm\\Anaconda3\\lib\\site-packages\\tensorflow\\python\\framework\\dtypes.py:520: FutureWarning: Passing (type, 1) or '1type' as a synonym of type is deprecated; in a future version of numpy, it will be understood as (type, (1,)) / '(1,)type'.\n",
      "  _np_qint32 = np.dtype([(\"qint32\", np.int32, 1)])\n",
      "C:\\Users\\reshm\\Anaconda3\\lib\\site-packages\\tensorflow\\python\\framework\\dtypes.py:525: FutureWarning: Passing (type, 1) or '1type' as a synonym of type is deprecated; in a future version of numpy, it will be understood as (type, (1,)) / '(1,)type'.\n",
      "  np_resource = np.dtype([(\"resource\", np.ubyte, 1)])\n",
      "C:\\Users\\reshm\\Anaconda3\\lib\\site-packages\\tensorboard\\compat\\tensorflow_stub\\dtypes.py:541: FutureWarning: Passing (type, 1) or '1type' as a synonym of type is deprecated; in a future version of numpy, it will be understood as (type, (1,)) / '(1,)type'.\n",
      "  _np_qint8 = np.dtype([(\"qint8\", np.int8, 1)])\n",
      "C:\\Users\\reshm\\Anaconda3\\lib\\site-packages\\tensorboard\\compat\\tensorflow_stub\\dtypes.py:542: FutureWarning: Passing (type, 1) or '1type' as a synonym of type is deprecated; in a future version of numpy, it will be understood as (type, (1,)) / '(1,)type'.\n",
      "  _np_quint8 = np.dtype([(\"quint8\", np.uint8, 1)])\n",
      "C:\\Users\\reshm\\Anaconda3\\lib\\site-packages\\tensorboard\\compat\\tensorflow_stub\\dtypes.py:543: FutureWarning: Passing (type, 1) or '1type' as a synonym of type is deprecated; in a future version of numpy, it will be understood as (type, (1,)) / '(1,)type'.\n",
      "  _np_qint16 = np.dtype([(\"qint16\", np.int16, 1)])\n",
      "C:\\Users\\reshm\\Anaconda3\\lib\\site-packages\\tensorboard\\compat\\tensorflow_stub\\dtypes.py:544: FutureWarning: Passing (type, 1) or '1type' as a synonym of type is deprecated; in a future version of numpy, it will be understood as (type, (1,)) / '(1,)type'.\n",
      "  _np_quint16 = np.dtype([(\"quint16\", np.uint16, 1)])\n",
      "C:\\Users\\reshm\\Anaconda3\\lib\\site-packages\\tensorboard\\compat\\tensorflow_stub\\dtypes.py:545: FutureWarning: Passing (type, 1) or '1type' as a synonym of type is deprecated; in a future version of numpy, it will be understood as (type, (1,)) / '(1,)type'.\n",
      "  _np_qint32 = np.dtype([(\"qint32\", np.int32, 1)])\n",
      "C:\\Users\\reshm\\Anaconda3\\lib\\site-packages\\tensorboard\\compat\\tensorflow_stub\\dtypes.py:550: FutureWarning: Passing (type, 1) or '1type' as a synonym of type is deprecated; in a future version of numpy, it will be understood as (type, (1,)) / '(1,)type'.\n",
      "  np_resource = np.dtype([(\"resource\", np.ubyte, 1)])\n"
     ]
    },
    {
     "name": "stdout",
     "output_type": "stream",
     "text": [
      "Requirement already satisfied: contractions in c:\\users\\reshm\\anaconda3\\lib\\site-packages (0.0.24)\n",
      "Requirement already satisfied: textsearch in c:\\users\\reshm\\anaconda3\\lib\\site-packages (from contractions) (0.0.17)\n",
      "Requirement already satisfied: pyahocorasick in c:\\users\\reshm\\anaconda3\\lib\\site-packages (from textsearch->contractions) (1.4.0)\n",
      "Requirement already satisfied: Unidecode in c:\\users\\reshm\\anaconda3\\lib\\site-packages (from textsearch->contractions) (1.1.1)\n"
     ]
    }
   ],
   "source": [
    "# 1.Importing all the libraries\n",
    "\n",
    "import numpy as np \n",
    "import pandas as pd \n",
    "import matplotlib.pyplot as plt\n",
    "import math\n",
    "from scipy import stats\n",
    "from scipy.stats import randint\n",
    "from gensim.models import KeyedVectors\n",
    "import re\n",
    "from nltk.tokenize import word_tokenize\n",
    "from string import punctuation \n",
    "from nltk.corpus import stopwords \n",
    "from imblearn.under_sampling import RandomUnderSampler\n",
    "import string\n",
    "from nltk.stem import WordNetLemmatizer\n",
    "from nltk.stem.porter import PorterStemmer\n",
    "from nltk.util import ngrams\n",
    "from sklearn.feature_extraction.text import TfidfVectorizer,CountVectorizer\n",
    "from sklearn import neighbors\n",
    "import seaborn as sns\n",
    "from sklearn.model_selection import train_test_split\n",
    "from sklearn import metrics\n",
    "from sklearn.metrics import accuracy_score, mean_squared_error, precision_recall_curve\n",
    "from sklearn.model_selection import cross_val_score\n",
    "from keras.preprocessing.text import Tokenizer\n",
    "from keras.preprocessing.sequence import pad_sequences\n",
    "from keras.models import Sequential\n",
    "from keras.layers import Embedding, LSTM, Dense, Dropout\n",
    "from keras.layers import Dense, Input, LSTM, Embedding, Dropout, Activation, CuDNNGRU, Conv1D, CuDNNLSTM, concatenate\n",
    "from keras.layers import Bidirectional, GlobalMaxPool1D, Dropout, SpatialDropout1D, GlobalAveragePooling1D, GlobalMaxPooling1D\n",
    "from keras.models import Model\n",
    "from keras import initializers, regularizers, constraints, optimizers, layers\n",
    "from keras.optimizers import SGD\n",
    "from gensim.models.doc2vec import LabeledSentence\n",
    "from gensim.models.doc2vec import TaggedDocument\n",
    "from gensim.models import Doc2Vec\n",
    "from keras.optimizers import RMSprop\n",
    "from tensorflow import keras\n",
    "import multiprocessing\n",
    "cores = multiprocessing.cpu_count()\n",
    "# from tqdm import tqdm\n",
    "# tqdm.pandas(desc=\"progress-bar\")\n",
    "from sklearn import utils\n",
    "from keras.utils import to_categorical\n",
    "import warnings\n",
    "import tensorflow as tf\n",
    "from keras.preprocessing.text import Tokenizer\n",
    "from keras.preprocessing.sequence import pad_sequences\n",
    "from nltk.tokenize import TweetTokenizer\n",
    "from sklearn.preprocessing import binarize, LabelEncoder, MinMaxScaler\n",
    "# import emoji\n",
    "!pip install contractions\n",
    "import contractions\n",
    "from sklearn.metrics import classification_report\n",
    "import os\n",
    "from os.path import join, exists\n",
    "from keras.utils.data_utils import get_file\n",
    "import sys\n",
    "import time\n",
    "from imblearn.over_sampling import RandomOverSampler,SMOTE, ADASYN\n",
    "from collections import Counter\n",
    "from collections import defaultdict\n",
    "warnings.filterwarnings(\"ignore\")"
   ]
  },
  {
   "cell_type": "code",
   "execution_count": null,
   "metadata": {},
   "outputs": [],
   "source": []
  },
  {
   "cell_type": "code",
   "execution_count": 2,
   "metadata": {},
   "outputs": [],
   "source": [
    "def confusion_matrix(cnf_matrix):    \n",
    "    class_names=[0,1] # name  of classes\n",
    "    fig, ax = plt.subplots()\n",
    "    tick_marks = np.arange(len(class_names))\n",
    "    plt.xticks(tick_marks, class_names)\n",
    "    plt.yticks(tick_marks, class_names)\n",
    "    sns.heatmap(pd.DataFrame(cnf_matrix), annot=True, cmap=\"YlGnBu\" ,fmt='g')\n",
    "    ax.xaxis.set_label_position(\"top\")\n",
    "    plt.tight_layout()\n",
    "    plt.title('Confusion matrix', y=1.1)\n",
    "    plt.ylabel('Actual label')\n",
    "    plt.xlabel('Predicted label')\n",
    "    return \n"
   ]
  },
  {
   "cell_type": "code",
   "execution_count": 3,
   "metadata": {},
   "outputs": [],
   "source": [
    "# function to extract only words, by excluding punctuation and other symbols\n",
    "def clean_data(review):\n",
    "    review = review.lower() # convert text to lower-case\n",
    "    review = re.sub('((www\\.[^\\s]+)|(https?://[^\\s]+))', 'URL', review) # remove URLs\n",
    "    review = re.sub('@[^\\s]+', 'AT_USER', review) # remove usernames\n",
    "    review = re.sub(r'#([^\\s]+)', r'\\1', review) # remove the # in #hashtag\n",
    "    review = re.sub(r'\\W', ' ', review) # Remove all the special characters\n",
    "    review= re.sub(r'\\s+[a-zA-Z]\\s+', ' ', review)  # remove all single characters  \n",
    "    review = re.sub(r'\\^[a-zA-Z]\\s+', ' ', review)  # Remove single characters from the start\n",
    "    review = re.sub(r'\\s+', ' ', review, flags=re.I)# Substituting multiple spaces with single space\n",
    "    review =  re.sub(r\"\\d\", \"\", review) #Removing Digits\n",
    "    review = re.sub(r\"^\\s+\", \"\", review) #Removing Spaces from Start and End\n",
    "    review = contractions.fix(review) #to change words like \"don't\" to \"do not\"\n",
    "    review = re.sub(\"([^\\x00-\\x7F])+\",\" \",review) #removing non-english words\n",
    "#     review = word_tokenize(review) \n",
    "#     review = remove_stop_words(review) #remove stop words\n",
    "#     review = ' '.join(review)\n",
    "    return review\n",
    "\n",
    "# #function to remove  stopwords\n",
    "# StopWords_path = 'http://www.site.uottawa.ca/~diana/csi5180/StopWords'\n",
    "# StopWords = pd.read_csv(StopWords_path, header=None)\n",
    "# english_stop_words = StopWords[0].values.tolist()\n",
    "# # english_stop_words = stopwords.words('english')\n",
    "# def remove_stop_words(corpus):\n",
    "#     removed_stop_words = []\n",
    "#     for review in corpus:\n",
    "#         removed_stop_words.append(\n",
    "#             ''.join([word for word in review.split() \n",
    "#                       if word not in english_stop_words])\n",
    "#         )\n",
    "#     removed_stop_words = list(filter(lambda x: x != '', removed_stop_words))\n",
    "#     return removed_stop_words\n",
    "\n",
    "\n",
    "def tokenize_text(text):\n",
    "    tokens = []\n",
    "    for sent in nltk.sent_tokenize(text):\n",
    "        for word in nltk.word_tokenize(sent):\n",
    "            if len(word) < 2:\n",
    "                continue\n",
    "            tokens.append(word.lower())\n",
    "    return tokens"
   ]
  },
  {
   "cell_type": "code",
   "execution_count": 4,
   "metadata": {},
   "outputs": [],
   "source": [
    "def plotting(history):\n",
    "    plt.plot(history.history['acc'])\n",
    "    plt.plot(history.history['val_acc'])\n",
    "    plt.title('model accuracy')\n",
    "    plt.ylabel('accuracy')\n",
    "    plt.xlabel('epoch')\n",
    "    plt.legend(['train', 'test'], loc='upper left')\n",
    "    plt.show()\n",
    "\n",
    "    # summarize history for loss\n",
    "    plt.plot(history.history['loss'])\n",
    "    plt.plot(history.history['val_loss'])\n",
    "    plt.title('model loss')\n",
    "    plt.ylabel('loss')\n",
    "    plt.xlabel('epoch')\n",
    "    plt.legend(['train', 'test'], loc='upper left')\n",
    "    plt.show()   "
   ]
  },
  {
   "cell_type": "code",
   "execution_count": 5,
   "metadata": {},
   "outputs": [],
   "source": [
    "def undersampleData(train_X, train_y):\n",
    "    rus = RandomUnderSampler(random_state=0)\n",
    "    X_resampled, y_resampled = rus.fit_resample(train_X, train_y)\n",
    "    return X_resampled, y_resampled"
   ]
  },
  {
   "cell_type": "code",
   "execution_count": 6,
   "metadata": {},
   "outputs": [],
   "source": [
    "Data_path = 'questions.csv'\n",
    "Data = pd.read_csv(Data_path)"
   ]
  },
  {
   "cell_type": "code",
   "execution_count": 7,
   "metadata": {},
   "outputs": [],
   "source": [
    "embedding_dim = 300\n",
    "max_features = 5000 # how many unique words to use (i.e num rows in embedding vector)\n",
    "maxlen = 100 # max number of words in a question to use"
   ]
  },
  {
   "cell_type": "code",
   "execution_count": 8,
   "metadata": {},
   "outputs": [],
   "source": [
    "Data.drop(Data[Data.isnull().any(axis=1)].index,inplace=True)\n",
    "Data['question1'] = Data['question1'].astype('str')\n",
    "Data['question2'] = Data['question2'].astype('str')\n",
    "train, test = train_test_split(Data, test_size=0.1)\n",
    "train, validation = train_test_split(train, test_size=0.1)"
   ]
  },
  {
   "cell_type": "code",
   "execution_count": 9,
   "metadata": {},
   "outputs": [],
   "source": [
    "train['question1'] = train.question1.apply(clean_data)\n",
    "train['question2'] = train.question2.apply(clean_data)\n",
    "test['question1'] = test.question1.apply(clean_data)\n",
    "test['question2'] = test.question2.apply(clean_data)"
   ]
  },
  {
   "cell_type": "code",
   "execution_count": 10,
   "metadata": {},
   "outputs": [
    {
     "name": "stdout",
     "output_type": "stream",
     "text": [
      "Download wiki-news-300d-1M.vec.zip\n"
     ]
    }
   ],
   "source": [
    "wiki_url = 'https://dl.fbaipublicfiles.com/fasttext/vectors-english/wiki-news-300d-1M.vec.zip'\n",
    "wiki_filename = 'wiki-news-300d-1M.vec.zip'\n",
    "wiki_loc = join(wiki_filename)\n",
    "\n",
    "if not exists(wiki_loc):\n",
    "    print('Download %s' % wiki_filename)\n",
    "    get_file(wiki_filename, wiki_url, cache_dir='.', extract=True)"
   ]
  },
  {
   "cell_type": "code",
   "execution_count": 10,
   "metadata": {},
   "outputs": [
    {
     "name": "stdout",
     "output_type": "stream",
     "text": [
      "Extract datasets/wiki-news-300d-1M.vec\n",
      "Embeddings size: 999995\n"
     ]
    }
   ],
   "source": [
    "EMBEDDING_FILE = 'datasets/wiki-news-300d-1M.vec'\n",
    "embeddings = {}\n",
    "\n",
    "print('Extract %s' % EMBEDDING_FILE)\n",
    "with open(EMBEDDING_FILE, 'r',encoding = \"utf-8\") as f:\n",
    "    for line in f:\n",
    "        values = line.split(' ')\n",
    "        word = values[0]\n",
    "        embedding = np.asarray(values[1:], dtype='float32')\n",
    "        embeddings[word] = embedding\n",
    "        \n",
    "print('Embeddings size: %d' % len(embeddings))"
   ]
  },
  {
   "cell_type": "code",
   "execution_count": 12,
   "metadata": {},
   "outputs": [
    {
     "name": "stdout",
     "output_type": "stream",
     "text": [
      "Train Data Shape: (327521, 6)\n",
      "Validation Data Shape: (36392, 6)\n",
      "Test Data Shape : (40435, 6)\n",
      "Train Data : \n",
      " 0    206740\n",
      "1    120781\n",
      "Name: is_duplicate, dtype: int64\n",
      "\n",
      "Validation Data : \n",
      " 0    22839\n",
      "1    13553\n",
      "Name: is_duplicate, dtype: int64\n",
      "\n",
      "Test Data :\n",
      " 0    25463\n",
      "1    14972\n",
      "Name: is_duplicate, dtype: int64\n"
     ]
    }
   ],
   "source": [
    "print(\"Train Data Shape:\",train.shape)\n",
    "print(\"Validation Data Shape:\",validation.shape)\n",
    "print(\"Test Data Shape :\",test.shape)\n",
    "\n",
    "print(\"Train Data : \\n\",train[\"is_duplicate\"].value_counts())\n",
    "print(\"\\nValidation Data : \\n\",validation[\"is_duplicate\"].value_counts())\n",
    "print(\"\\nTest Data :\\n\",test[\"is_duplicate\"].value_counts())"
   ]
  },
  {
   "cell_type": "code",
   "execution_count": 13,
   "metadata": {},
   "outputs": [],
   "source": [
    "train_sentence1 = train['question1'].values\n",
    "train_sentence2 = train['question2'].values\n",
    "\n",
    "validation_sentence1 = validation['question1'].values\n",
    "validation_sentence2 = validation['question2'].values\n",
    "\n",
    "test_sentence1 = test['question1'].values\n",
    "test_sentence2 = test['question2'].values"
   ]
  },
  {
   "cell_type": "code",
   "execution_count": 14,
   "metadata": {},
   "outputs": [
    {
     "name": "stdout",
     "output_type": "stream",
     "text": [
      "Found 327521 samples.\n",
      "Found 73339 unique tokens.\n"
     ]
    }
   ],
   "source": [
    "NUM_WORDS = len(embeddings)\n",
    "\n",
    "print('Found %s samples.' % len(train_sentence1))\n",
    "\n",
    "train_sentences = train_sentence1 + train_sentence2\n",
    "\n",
    "tokenizer = Tokenizer(num_words = NUM_WORDS)\n",
    "tokenizer.fit_on_texts(train_sentences)\n",
    "\n",
    "sentence1_word_sequences = tokenizer.texts_to_sequences(train_sentence1)\n",
    "sentence2_word_sequences = tokenizer.texts_to_sequences(train_sentence2)\n",
    "\n",
    "validation_sentence1_word_sequences = tokenizer.texts_to_sequences(validation_sentence1)\n",
    "validation_sentence2_word_sequences = tokenizer.texts_to_sequences(validation_sentence2)\n",
    "\n",
    "test_sentence1_word_sequences = tokenizer.texts_to_sequences(test_sentence1)\n",
    "test_sentence2_word_sequences = tokenizer.texts_to_sequences(test_sentence2)\n",
    "\n",
    "\n",
    "word_index = tokenizer.word_index\n",
    "\n",
    "print('Found %s unique tokens.' % len(word_index))"
   ]
  },
  {
   "cell_type": "code",
   "execution_count": 15,
   "metadata": {},
   "outputs": [],
   "source": [
    "words_len = min(NUM_WORDS, len(word_index))\n",
    "word_embedding_matrix = np.random.random((words_len + 1, embedding_dim))\n",
    "k = 0\n",
    "for word, i in word_index.items():\n",
    "    if i >= NUM_WORDS:\n",
    "        continue\n",
    "    embedding_vector = embeddings.get(word)\n",
    "    if embedding_vector is not None:\n",
    "        word_embedding_matrix[i] = embedding_vector\n",
    "        k += 1"
   ]
  },
  {
   "cell_type": "code",
   "execution_count": 16,
   "metadata": {},
   "outputs": [
    {
     "data": {
      "text/plain": [
       "999995"
      ]
     },
     "execution_count": 16,
     "metadata": {},
     "output_type": "execute_result"
    }
   ],
   "source": [
    "len(embeddings)"
   ]
  },
  {
   "cell_type": "code",
   "execution_count": 17,
   "metadata": {},
   "outputs": [
    {
     "data": {
      "text/plain": [
       "(73340, 300)"
      ]
     },
     "execution_count": 17,
     "metadata": {},
     "output_type": "execute_result"
    }
   ],
   "source": [
    "word_embedding_matrix.shape"
   ]
  },
  {
   "cell_type": "code",
   "execution_count": 18,
   "metadata": {},
   "outputs": [
    {
     "data": {
      "text/plain": [
       "array([[ 0.90052038,  0.20688539,  0.58861172, ...,  0.1902339 ,\n",
       "         0.58299546,  0.6270166 ],\n",
       "       [ 0.0897    ,  0.016     , -0.0571    , ...,  0.1559    ,\n",
       "        -0.0254    , -0.0259    ],\n",
       "       [-0.0754    , -0.002     ,  0.0343    , ...,  0.2511    ,\n",
       "         0.0671    ,  0.0017    ],\n",
       "       ...,\n",
       "       [ 0.70825582,  0.0892322 ,  0.1902443 , ...,  0.48538054,\n",
       "         0.69105499,  0.89896581],\n",
       "       [-0.0449    ,  0.3326    ,  0.25819999, ...,  0.1099    ,\n",
       "        -0.0296    ,  0.0909    ],\n",
       "       [-0.1016    ,  0.097     , -0.31740001, ...,  0.0629    ,\n",
       "        -0.12909999,  0.0391    ]])"
      ]
     },
     "execution_count": 18,
     "metadata": {},
     "output_type": "execute_result"
    }
   ],
   "source": [
    "word_embedding_matrix"
   ]
  },
  {
   "cell_type": "code",
   "execution_count": 19,
   "metadata": {},
   "outputs": [
    {
     "data": {
      "text/plain": [
       "(73340, 300)"
      ]
     },
     "execution_count": 19,
     "metadata": {},
     "output_type": "execute_result"
    }
   ],
   "source": [
    "word_embedding_matrix.shape"
   ]
  },
  {
   "cell_type": "code",
   "execution_count": 20,
   "metadata": {},
   "outputs": [
    {
     "data": {
      "text/plain": [
       "300"
      ]
     },
     "execution_count": 20,
     "metadata": {},
     "output_type": "execute_result"
    }
   ],
   "source": [
    "len(word_embedding_matrix[0])"
   ]
  },
  {
   "cell_type": "code",
   "execution_count": 21,
   "metadata": {},
   "outputs": [
    {
     "name": "stderr",
     "output_type": "stream",
     "text": [
      "WARNING: Logging before flag parsing goes to stderr.\n",
      "W0413 15:10:55.085551 16848 deprecation_wrapper.py:119] From C:\\Users\\reshm\\Anaconda3\\lib\\site-packages\\keras\\backend\\tensorflow_backend.py:66: The name tf.get_default_graph is deprecated. Please use tf.compat.v1.get_default_graph instead.\n",
      "\n",
      "W0413 15:10:55.112475 16848 deprecation_wrapper.py:119] From C:\\Users\\reshm\\Anaconda3\\lib\\site-packages\\keras\\backend\\tensorflow_backend.py:541: The name tf.placeholder is deprecated. Please use tf.compat.v1.placeholder instead.\n",
      "\n",
      "W0413 15:10:55.117462 16848 deprecation_wrapper.py:119] From C:\\Users\\reshm\\Anaconda3\\lib\\site-packages\\keras\\backend\\tensorflow_backend.py:4432: The name tf.random_uniform is deprecated. Please use tf.random.uniform instead.\n",
      "\n",
      "W0413 15:10:55.132421 16848 deprecation_wrapper.py:119] From C:\\Users\\reshm\\Anaconda3\\lib\\site-packages\\keras\\backend\\tensorflow_backend.py:190: The name tf.get_default_session is deprecated. Please use tf.compat.v1.get_default_session instead.\n",
      "\n",
      "W0413 15:10:55.134416 16848 deprecation_wrapper.py:119] From C:\\Users\\reshm\\Anaconda3\\lib\\site-packages\\keras\\backend\\tensorflow_backend.py:197: The name tf.ConfigProto is deprecated. Please use tf.compat.v1.ConfigProto instead.\n",
      "\n",
      "W0413 15:10:57.735754 16848 deprecation.py:506] From C:\\Users\\reshm\\Anaconda3\\lib\\site-packages\\keras\\backend\\tensorflow_backend.py:3733: calling dropout (from tensorflow.python.ops.nn_ops) with keep_prob is deprecated and will be removed in a future version.\n",
      "Instructions for updating:\n",
      "Please use `rate` instead of `keep_prob`. Rate should be set to `rate = 1 - keep_prob`.\n",
      "W0413 15:10:57.758693 16848 deprecation_wrapper.py:119] From C:\\Users\\reshm\\Anaconda3\\lib\\site-packages\\keras\\optimizers.py:793: The name tf.train.Optimizer is deprecated. Please use tf.compat.v1.train.Optimizer instead.\n",
      "\n",
      "W0413 15:10:57.795596 16848 deprecation.py:323] From C:\\Users\\reshm\\Anaconda3\\lib\\site-packages\\tensorflow\\python\\ops\\nn_impl.py:180: add_dispatch_support.<locals>.wrapper (from tensorflow.python.ops.array_ops) is deprecated and will be removed in a future version.\n",
      "Instructions for updating:\n",
      "Use tf.where in 2.0, which has the same broadcast rule as np.where\n"
     ]
    },
    {
     "name": "stdout",
     "output_type": "stream",
     "text": [
      "Model: \"model_1\"\n",
      "_________________________________________________________________\n",
      "Layer (type)                 Output Shape              Param #   \n",
      "=================================================================\n",
      "input_1 (InputLayer)         (None, 100)               0         \n",
      "_________________________________________________________________\n",
      "embedding_1 (Embedding)      (None, 100, 300)          22002000  \n",
      "_________________________________________________________________\n",
      "bidirectional_1 (Bidirection (None, 100, 200)          320800    \n",
      "_________________________________________________________________\n",
      "global_max_pooling1d_1 (Glob (None, 200)               0         \n",
      "_________________________________________________________________\n",
      "dense_1 (Dense)              (None, 16)                3216      \n",
      "_________________________________________________________________\n",
      "dropout_1 (Dropout)          (None, 16)                0         \n",
      "_________________________________________________________________\n",
      "dense_2 (Dense)              (None, 1)                 17        \n",
      "=================================================================\n",
      "Total params: 22,326,033\n",
      "Trainable params: 22,326,033\n",
      "Non-trainable params: 0\n",
      "_________________________________________________________________\n",
      "None\n"
     ]
    }
   ],
   "source": [
    "inp = Input(shape=(maxlen,))\n",
    "x = Embedding(len(word_index) +1, embedding_dim, weights=[word_embedding_matrix])(inp)\n",
    "x = Bidirectional(LSTM(100, return_sequences=True))(x)\n",
    "x = GlobalMaxPool1D()(x)\n",
    "x = Dense(16, activation=\"relu\")(x)\n",
    "x = Dropout(0.1)(x)\n",
    "x = Dense(1, activation=\"sigmoid\")(x)\n",
    "model = Model(inputs=inp, outputs=x)\n",
    "model.compile(loss='binary_crossentropy', optimizer='adam', metrics=['accuracy'])\n",
    "print(model.summary())"
   ]
  },
  {
   "cell_type": "code",
   "execution_count": 22,
   "metadata": {},
   "outputs": [
    {
     "data": {
      "image/png": "[encoded data removed]",
      "text/plain": [
       "<IPython.core.display.Image object>"
      ]
     },
     "execution_count": 22,
     "metadata": {},
     "output_type": "execute_result"
    }
   ],
   "source": [
    "import pydot\n",
    "# from keras.utils.vis_utils import plot_model\n",
    "import os\n",
    "os.environ[\"PATH\"] += os.pathsep + 'C:/Program Files (x86)/Graphviz2.38/bin/'\n",
    "tf.keras.utils.plot_model(model, to_file = 'model.png', show_shapes=False)\n",
    "# Image(filename ='model.png')"
   ]
  },
  {
   "cell_type": "code",
   "execution_count": 23,
   "metadata": {},
   "outputs": [],
   "source": [
    "train_s1 = pad_sequences(sentence1_word_sequences, maxlen = maxlen)\n",
    "train_s2 = pad_sequences(sentence2_word_sequences, maxlen = maxlen)\n",
    "validation_s1 = pad_sequences(validation_sentence1_word_sequences, maxlen = maxlen)\n",
    "validation_s2 = pad_sequences(validation_sentence2_word_sequences, maxlen = maxlen)\n",
    "test_s1 = pad_sequences(test_sentence1_word_sequences, maxlen = maxlen)\n",
    "test_s2 = pad_sequences(test_sentence2_word_sequences, maxlen = maxlen)\n"
   ]
  },
  {
   "cell_type": "code",
   "execution_count": 24,
   "metadata": {},
   "outputs": [],
   "source": [
    "validation_label = validation[\"is_duplicate\"].values\n",
    "test_label = test[\"is_duplicate\"].values\n"
   ]
  },
  {
   "cell_type": "code",
   "execution_count": 25,
   "metadata": {},
   "outputs": [],
   "source": [
    "X_train = train_s1 + train_s2\n",
    "y_train = train[\"is_duplicate\"].values\n",
    "X_resampled, y_resampled = undersampleData(X_train, y_train)\n"
   ]
  },
  {
   "cell_type": "code",
   "execution_count": 26,
   "metadata": {},
   "outputs": [
    {
     "name": "stdout",
     "output_type": "stream",
     "text": [
      "Train Data Shape: (241562, 100)\n",
      "Train Data : \n",
      " 1    120781\n",
      "0    120781\n",
      "Name: 0, dtype: int64\n"
     ]
    },
    {
     "data": {
      "image/png": "[encoded data removed]",
      "text/plain": [
       "<Figure size 432x288 with 1 Axes>"
      ]
     },
     "metadata": {
      "needs_background": "light"
     },
     "output_type": "display_data"
    }
   ],
   "source": [
    "print(\"Train Data Shape:\",X_resampled.shape)\n",
    "y = pd.DataFrame(y_resampled)\n",
    "print(\"Train Data : \\n\",y[0].value_counts())\n",
    "\n",
    "sns.countplot(y[0],label=\"Count\")\n",
    "plt.show()"
   ]
  },
  {
   "cell_type": "code",
   "execution_count": 27,
   "metadata": {},
   "outputs": [
    {
     "name": "stdout",
     "output_type": "stream",
     "text": [
      "Train on 241562 samples, validate on 36392 samples\n",
      "Epoch 1/10\n",
      "241562/241562 [==============================] - 244s 1ms/step - loss: 0.6120 - acc: 0.6615 - val_loss: 0.5759 - val_acc: 0.6945\n",
      "Epoch 2/10\n",
      "241562/241562 [==============================] - 356s 1ms/step - loss: 0.5426 - acc: 0.7276 - val_loss: 0.5750 - val_acc: 0.6905\n",
      "Epoch 3/10\n",
      "241562/241562 [==============================] - 262s 1ms/step - loss: 0.4842 - acc: 0.7690 - val_loss: 0.6081 - val_acc: 0.6755\n",
      "Epoch 4/10\n",
      "241562/241562 [==============================] - 278s 1ms/step - loss: 0.4194 - acc: 0.8066 - val_loss: 0.6091 - val_acc: 0.6932\n",
      "Epoch 5/10\n",
      "241562/241562 [==============================] - 288s 1ms/step - loss: 0.3573 - acc: 0.8393 - val_loss: 0.6803 - val_acc: 0.6848\n",
      "Epoch 6/10\n",
      "241562/241562 [==============================] - 289s 1ms/step - loss: 0.3032 - acc: 0.8660 - val_loss: 0.8134 - val_acc: 0.6749\n",
      "Epoch 7/10\n",
      "241562/241562 [==============================] - 348s 1ms/step - loss: 0.2580 - acc: 0.8871 - val_loss: 0.9351 - val_acc: 0.6598\n",
      "Epoch 8/10\n",
      "241562/241562 [==============================] - 270s 1ms/step - loss: 0.2206 - acc: 0.9043 - val_loss: 1.0579 - val_acc: 0.6705\n",
      "Epoch 9/10\n",
      "241562/241562 [==============================] - 264s 1ms/step - loss: 0.1847 - acc: 0.9207 - val_loss: 1.2183 - val_acc: 0.6685\n",
      "Epoch 10/10\n",
      "241562/241562 [==============================] - 270s 1ms/step - loss: 0.1570 - acc: 0.9329 - val_loss: 1.3563 - val_acc: 0.6702\n"
     ]
    },
    {
     "data": {
      "image/png": "[encoded data removed]",
      "text/plain": [
       "<Figure size 432x288 with 1 Axes>"
      ]
     },
     "metadata": {
      "needs_background": "light"
     },
     "output_type": "display_data"
    },
    {
     "data": {
      "image/png": "[encoded data removed]",
      "text/plain": [
       "<Figure size 432x288 with 1 Axes>"
      ]
     },
     "metadata": {
      "needs_background": "light"
     },
     "output_type": "display_data"
    }
   ],
   "source": [
    "history = model.fit(X_resampled, y_resampled, batch_size=1024, epochs=10, validation_data=(validation_s1 + validation_s2, validation_label))\n",
    "plotting(history)\n"
   ]
  },
  {
   "cell_type": "code",
   "execution_count": 28,
   "metadata": {},
   "outputs": [
    {
     "name": "stdout",
     "output_type": "stream",
     "text": [
      "36392/36392 [==============================] - 505s 14ms/step\n",
      "Validation Accuracy: 67.020224\n"
     ]
    }
   ],
   "source": [
    "loss, acc = model.evaluate(validation_s1 + validation_s2, validation_label , verbose=1)\n",
    "print('Validation Accuracy: %f' % (acc*100))"
   ]
  },
  {
   "cell_type": "code",
   "execution_count": 29,
   "metadata": {},
   "outputs": [
    {
     "name": "stdout",
     "output_type": "stream",
     "text": [
      "40435/40435 [==============================] - 423s 10ms/step\n",
      "Accuracy: 0.679015704216644\n"
     ]
    }
   ],
   "source": [
    "test_label_pred = model.predict(test_s1 + test_s2, batch_size=32, verbose=1)\n",
    "\n",
    "print(\"Accuracy:\",metrics.accuracy_score(test_label, test_label_pred.round()))"
   ]
  },
  {
   "cell_type": "code",
   "execution_count": 30,
   "metadata": {},
   "outputs": [
    {
     "name": "stdout",
     "output_type": "stream",
     "text": [
      "              precision    recall  f1-score   support\n",
      "\n",
      "           0       0.81      0.64      0.72     25463\n",
      "           1       0.55      0.74      0.63     14972\n",
      "\n",
      "    accuracy                           0.68     40435\n",
      "   macro avg       0.68      0.69      0.67     40435\n",
      "weighted avg       0.71      0.68      0.68     40435\n",
      "\n"
     ]
    },
    {
     "data": {
      "image/png": "[encoded data removed]",
      "text/plain": [
       "<Figure size 432x288 with 2 Axes>"
      ]
     },
     "metadata": {
      "needs_background": "light"
     },
     "output_type": "display_data"
    }
   ],
   "source": [
    "test[\"Predicted Output\"] = test_label_pred\n",
    "print(classification_report(test[\"is_duplicate\"], test_label_pred.round()))\n",
    "cnf_matrix = metrics.confusion_matrix(test[\"is_duplicate\"], test_label_pred.round())\n",
    "confusion_matrix(cnf_matrix)"
   ]
  },
  {
   "cell_type": "code",
   "execution_count": null,
   "metadata": {},
   "outputs": [],
   "source": []
  }
 ],
 "metadata": {
  "kernelspec": {
   "display_name": "Python 3",
   "language": "python",
   "name": "python3"
  },
  "language_info": {
   "codemirror_mode": {
    "name": "ipython",
    "version": 3
   },
   "file_extension": ".py",
   "mimetype": "text/x-python",
   "name": "python",
   "nbconvert_exporter": "python",
   "pygments_lexer": "ipython3",
   "version": "3.7.0"
  }
 },
 "nbformat": 4,
 "nbformat_minor": 2
}
